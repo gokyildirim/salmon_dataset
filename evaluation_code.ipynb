{
 "cells": [
  {
   "cell_type": "code",
   "execution_count": 1,
   "metadata": {},
   "outputs": [],
   "source": [
    "import sys\n",
    "import os\n",
    "import numpy as np\n",
    "import glob\n",
    "import pickle\n",
    "\n",
    "import cv2\n",
    "from PIL import Image\n",
    "from scipy.stats import kendalltau\n",
    "\n",
    "from tqdm.contrib.concurrent import process_map\n",
    "from tqdm import notebook"
   ]
  },
  {
   "cell_type": "markdown",
   "metadata": {},
   "source": [
    "# Declare Vars & Load Data"
   ]
  },
  {
   "cell_type": "code",
   "execution_count": 2,
   "metadata": {},
   "outputs": [],
   "source": [
    "#### Important variables\n",
    "\n",
    "number_of_images = 588\n",
    "number_of_objects = 2434\n",
    "main_path = \"./SalMoN_Dataset/\" ## Dataset folder\n",
    "\n",
    "#### Multi-core processing parameters\n",
    "\n",
    "max_workers = 4\n",
    "chunksize = 32\n",
    "\n",
    "#### Load important data\n",
    "\n",
    "with open(os.path.join(main_path, \"object_saliencies.pkl\"), \"rb\") as fid:\n",
    "    object_saliencies = pickle.load(fid)\n",
    "    \n",
    "with open(os.path.join(main_path, \"object_counts.pkl\"), \"rb\") as fid:\n",
    "    object_counts = pickle.load(fid)\n",
    "    \n",
    "object_offsets = np.cumsum(object_counts[:-1])\n",
    "object_offsets = np.concatenate([np.zeros((1), dtype=int), object_offsets])"
   ]
  },
  {
   "cell_type": "markdown",
   "metadata": {},
   "source": [
    "# Load Saliency Maps Results for a Method"
   ]
  },
  {
   "cell_type": "code",
   "execution_count": 3,
   "metadata": {},
   "outputs": [],
   "source": [
    "results_folder = \"example_results\""
   ]
  },
  {
   "cell_type": "code",
   "execution_count": 4,
   "metadata": {},
   "outputs": [
    {
     "data": {
      "application/vnd.jupyter.widget-view+json": {
       "model_id": "7ba62b9189a24b5699f25dc6d1d3dbfb",
       "version_major": 2,
       "version_minor": 0
      },
      "text/plain": [
       "HBox(children=(FloatProgress(value=0.0, max=588.0), HTML(value='')))"
      ]
     },
     "metadata": {},
     "output_type": "display_data"
    },
    {
     "name": "stdout",
     "output_type": "stream",
     "text": [
      "\n"
     ]
    }
   ],
   "source": [
    "def shrink_image(image):\n",
    "    image = cv2.resize(image, dsize=None, fx=.1, fy=.1, interpolation=cv2.INTER_AREA)\n",
    "    return image\n",
    "\n",
    "def load_image(path, shrink=False):\n",
    "    saliency_map = np.array(Image.open(path))\n",
    "    if shrink:\n",
    "        saliency_map = shrink_image(saliency_map)\n",
    "    return saliency_map\n",
    "\n",
    "def load_maps(image_index):\n",
    "    saliency_map_path = os.path.join(main_path, results_folder, f\"{image_index+1:04d}.png\")\n",
    "    saliency_map = load_image(saliency_map_path, shrink=False)\n",
    "    return saliency_map\n",
    "\n",
    "saliency_maps = process_map(\n",
    "    load_maps,\n",
    "    range(number_of_images),\n",
    "    max_workers=max_workers,\n",
    "    chunksize=chunksize,\n",
    ")"
   ]
  },
  {
   "cell_type": "markdown",
   "metadata": {},
   "source": [
    "# Calculate Precision, Recall, AUC"
   ]
  },
  {
   "cell_type": "code",
   "execution_count": 5,
   "metadata": {},
   "outputs": [
    {
     "data": {
      "application/vnd.jupyter.widget-view+json": {
       "model_id": "1b49b6a82b984e2db74d1a9d708e20b6",
       "version_major": 2,
       "version_minor": 0
      },
      "text/plain": [
       "HBox(children=(FloatProgress(value=0.0, max=588.0), HTML(value='')))"
      ]
     },
     "metadata": {},
     "output_type": "display_data"
    },
    {
     "name": "stdout",
     "output_type": "stream",
     "text": [
      "\n"
     ]
    }
   ],
   "source": [
    "def get_auc(sorted_targets, eps=1e-8):\n",
    "    \n",
    "    fn = np.cumsum(sorted_targets)\n",
    "    tp = fn.max() - fn\n",
    "\n",
    "    fp = np.cumsum(1 - sorted_targets[::-1])[::-1]\n",
    "\n",
    "    precision = tp / (tp + fp + eps)\n",
    "    recall = tp / (tp + fn + eps)\n",
    "    \n",
    "    auc = abs(np.trapz(precision, recall))\n",
    "    \n",
    "    return auc\n",
    "\n",
    "def calculate_metrics(name, ix, obj_number):\n",
    "    \n",
    "    path = os.path.join(main_path, name, f\"{obj_number}.png\")\n",
    "    smap = load_image(path, shrink=True)\n",
    "\n",
    "    smap = np.uint8(smap > 0)\n",
    "    smap = smap.reshape((-1))\n",
    "\n",
    "    sorted_targets = smap[ix]\n",
    "    \n",
    "    return get_auc(sorted_targets)\n",
    "\n",
    "def process(image_index):\n",
    "    \n",
    "    saliency_map = shrink_image(saliency_maps[image_index])\n",
    "    \n",
    "    flat_saliency_map = saliency_map.reshape((-1))\n",
    "    ix = np.argsort(flat_saliency_map)\n",
    "\n",
    "    offset = object_offsets[image_index]\n",
    "\n",
    "    F_aucs = []\n",
    "    P_aucs = []\n",
    "    R_aucs = []\n",
    "    \n",
    "    total_aucs = []\n",
    "\n",
    "    for k in range(object_counts[image_index]):\n",
    "        obj_number = offset + k + 1\n",
    "        F_aucs.append(calculate_metrics(\"sortedObjectsEyeSaliency\", ix, obj_number))\n",
    "        P_aucs.append(calculate_metrics(\"sortedObjectsPointSaliency\", ix, obj_number))\n",
    "        R_aucs.append(calculate_metrics(\"sortedObjectsRectangleSaliency\", ix, obj_number))\n",
    "        \n",
    "        maxi = max(F_aucs[-1], max(P_aucs[-1], R_aucs[-1]))\n",
    "        total_aucs.append(maxi)\n",
    "        \n",
    "    result = {\n",
    "        \"eye_fixation_aucs\": F_aucs,\n",
    "        \"point_clicking_aucs\": P_aucs,\n",
    "        \"rectangle_drawing_aucs\": R_aucs,\n",
    "        \"total_aucs\": total_aucs\n",
    "    }\n",
    "\n",
    "    return result\n",
    "\n",
    "results = process_map(\n",
    "    process,\n",
    "    range(number_of_images),\n",
    "    max_workers=max_workers,\n",
    "    chunksize=chunksize,\n",
    ")"
   ]
  },
  {
   "cell_type": "code",
   "execution_count": 6,
   "metadata": {},
   "outputs": [
    {
     "name": "stdout",
     "output_type": "stream",
     "text": [
      "eye_fixation_aucs: 0.608\n",
      "point_clicking_aucs: 0.631\n",
      "rectangle_drawing_aucs: 0.609\n",
      "total_aucs: 0.667\n"
     ]
    }
   ],
   "source": [
    "flattened_results = {}\n",
    "\n",
    "for result in results:\n",
    "    for key in result:\n",
    "        if key not in flattened_results:\n",
    "            flattened_results[key] = []\n",
    "        flattened_results[key] += result[key]\n",
    "        \n",
    "for key, value in flattened_results.items():\n",
    "    print(f\"{key}: {np.mean(value):.3f}\")"
   ]
  },
  {
   "cell_type": "markdown",
   "metadata": {},
   "source": [
    "# Calculate Object Saliency"
   ]
  },
  {
   "cell_type": "code",
   "execution_count": 7,
   "metadata": {},
   "outputs": [
    {
     "data": {
      "application/vnd.jupyter.widget-view+json": {
       "model_id": "b38f5c152818438eacdfb55c864a69f3",
       "version_major": 2,
       "version_minor": 0
      },
      "text/plain": [
       "HBox(children=(FloatProgress(value=0.0, max=588.0), HTML(value='')))"
      ]
     },
     "metadata": {},
     "output_type": "display_data"
    },
    {
     "name": "stdout",
     "output_type": "stream",
     "text": [
      "\n"
     ]
    }
   ],
   "source": [
    "def calculate_saliency(i):\n",
    "    \n",
    "    estimated_saliency = []\n",
    "    \n",
    "    paths = sorted(glob.glob(os.path.join(main_path, \"gtIndividualObjects\", f\"{i+1:04d}\", \"*.png\")))\n",
    "    \n",
    "    for du in range(object_counts[i]):\n",
    "        \n",
    "        GT = np.array(Image.open(paths[du]))\n",
    "        if len(GT.shape) > 2:\n",
    "            GT = GT[:, :, 0] / 255.\n",
    "        count = np.sum(GT)\n",
    "        \n",
    "        estimated_saliency.append(np.sum((saliency_maps[i] / 255.) * GT) / count)\n",
    "        \n",
    "    return estimated_saliency\n",
    "        \n",
    "estimated_saliency = process_map(\n",
    "    calculate_saliency,\n",
    "    range(number_of_images),\n",
    "    max_workers=max_workers,\n",
    "    chunksize=chunksize,\n",
    ")"
   ]
  },
  {
   "cell_type": "code",
   "execution_count": 8,
   "metadata": {},
   "outputs": [],
   "source": [
    "estimated_saliency = [value for element in estimated_saliency for value in element]"
   ]
  },
  {
   "cell_type": "markdown",
   "metadata": {},
   "source": [
    "# Calculate Mean-Absolute Error"
   ]
  },
  {
   "cell_type": "code",
   "execution_count": 10,
   "metadata": {},
   "outputs": [
    {
     "name": "stdout",
     "output_type": "stream",
     "text": [
      "Fixation: 0.246\n",
      "Point: 0.207\n",
      "Rectangle: 0.220\n",
      "Total: 0.123\n"
     ]
    }
   ],
   "source": [
    "EF_abs_diff = np.abs(object_saliencies[\"FixationSaliency\"][:, 0] - estimated_saliency)\n",
    "PC_abs_diff = np.abs(object_saliencies[\"PointSaliency\"][:, 0] - estimated_saliency)\n",
    "RD_abs_diff = np.abs(object_saliencies[\"RectangleSaliency\"][:, 0] - estimated_saliency)\n",
    "\n",
    "mini = np.minimum(EF_abs_diff, np.minimum(PC_abs_diff, RD_abs_diff))\n",
    "\n",
    "MAE = {\n",
    "    \"Fixation\": np.mean(EF_abs_diff),\n",
    "    \"Point\": np.mean(PC_abs_diff),\n",
    "    \"Rectangle\": np.mean(RD_abs_diff),\n",
    "    \"Total\": np.mean(mini),\n",
    "}\n",
    "\n",
    "for key, value in MAE.items():\n",
    "    print(f\"{key}: {value:.3f}\")"
   ]
  },
  {
   "cell_type": "markdown",
   "metadata": {},
   "source": [
    "# Calculate Kendall's Tau"
   ]
  },
  {
   "cell_type": "code",
   "execution_count": 11,
   "metadata": {},
   "outputs": [
    {
     "name": "stdout",
     "output_type": "stream",
     "text": [
      "Fixation: 0.251\n",
      "Point: 0.337\n",
      "Rectangle: 0.334\n"
     ]
    }
   ],
   "source": [
    "FixationtauD = kendalltau(object_saliencies[\"FixationSaliency\"], estimated_saliency)[0]\n",
    "PointtauD = kendalltau(object_saliencies[\"PointSaliency\"], estimated_saliency)[0]\n",
    "RectangletauD = kendalltau(object_saliencies[\"RectangleSaliency\"], estimated_saliency)[0]\n",
    "\n",
    "Tau = {\n",
    "    \"Fixation\": FixationtauD,\n",
    "    \"Point\": PointtauD,\n",
    "    \"Rectangle\": RectangletauD,\n",
    "}\n",
    "\n",
    "for key, value in Tau.items():\n",
    "    print(f\"{key}: {value:.3f}\")"
   ]
  },
  {
   "cell_type": "markdown",
   "metadata": {},
   "source": [
    "# Calculate Combined (over 3 Saliency Map) Kendall's Tau"
   ]
  },
  {
   "cell_type": "code",
   "execution_count": 12,
   "metadata": {},
   "outputs": [],
   "source": [
    "y, x = np.triu_indices(2434, k=1)\n",
    "\n",
    "def get_value(symbol, name):\n",
    "    \n",
    "    efx = object_saliencies[name]\n",
    "    efy = object_saliencies[name]\n",
    "    \n",
    "    if symbol == \">\":\n",
    "        ef = efx > efy.T\n",
    "    elif symbol == \"<\":\n",
    "        ef = efx < efy.T\n",
    "    elif symbol == \"==\":\n",
    "        ef = efx == efy.T\n",
    "    elif symbol == \"<=\":\n",
    "        ef = efx <= efy.T\n",
    "    elif symbol == \">=\":\n",
    "        ef = efx >= efy.T\n",
    "    elif symbol == \"!=\":\n",
    "        ef = efx != efy.T\n",
    "\n",
    "    ef = np.float32(ef)\n",
    "    ef = ef[y, x]\n",
    "    \n",
    "    return ef\n",
    "\n",
    "def get_comparison(symbol, direction):\n",
    "    \n",
    "    ef = get_value(symbol, \"FixationSaliency\")\n",
    "    pc = get_value(symbol, \"PointSaliency\")\n",
    "    rd = get_value(symbol, \"RectangleSaliency\")\n",
    "    \n",
    "    if direction == \"max\":\n",
    "        return np.maximum(ef, np.maximum(pc, rd))\n",
    "    elif direction == \"min\":\n",
    "        return np.minimum(ef, np.minimum(pc, rd))\n",
    "\n",
    "def get_estimated_comparison(symbol):\n",
    "    \n",
    "    efx = np.array(estimated_saliency).reshape((-1, 1))\n",
    "    efy = np.array(estimated_saliency).reshape((-1, 1))\n",
    "    \n",
    "    if symbol == \">\":\n",
    "        val = efx > efy.T\n",
    "    elif symbol == \"<\":\n",
    "        val = efx < efy.T\n",
    "    elif symbol == \"==\":\n",
    "        val = efx == efy.T\n",
    "        \n",
    "    val = np.float32(val)\n",
    "    val = val[y, x]\n",
    "        \n",
    "    return val\n",
    "\n",
    "C = 0\n",
    "D = 0\n",
    "\n",
    "T_rho = 0\n",
    "TR = 0\n",
    "        \n",
    "Gs_xgy = get_comparison(\">\", \"max\")\n",
    "Gs_xly = get_comparison(\"<\", \"max\")\n",
    "\n",
    "E_xgy = get_estimated_comparison(\">\")\n",
    "E_xly = get_estimated_comparison(\"<\")\n",
    "\n",
    "C = np.sum(Gs_xgy * E_xgy + Gs_xly * E_xly)\n",
    "\n",
    "Gi_xley = get_comparison(\"<=\", \"min\")\n",
    "Gi_xgey = get_comparison(\">=\", \"min\")\n",
    "\n",
    "D = np.sum(Gs_xly * Gi_xley * E_xgy) + np.sum(Gs_xgy * Gi_xgey * E_xly)\n",
    "\n",
    "Gi_xey = get_comparison(\"==\", \"min\")\n",
    "\n",
    "T_rho = np.sum(Gi_xey * (E_xgy + E_xly))\n",
    "\n",
    "Gs_xny = get_comparison(\"!=\", \"max\")\n",
    "E_xey = get_estimated_comparison(\"==\")\n",
    "\n",
    "TR = np.sum(Gs_xny * E_xey)"
   ]
  },
  {
   "cell_type": "code",
   "execution_count": 13,
   "metadata": {},
   "outputs": [
    {
     "data": {
      "text/plain": [
       "0.64252186"
      ]
     },
     "execution_count": 13,
     "metadata": {},
     "output_type": "execute_result"
    }
   ],
   "source": [
    "combined_tau = (C - D) / np.sqrt((C + D + TR) * (C + D + T_rho))\n",
    "combined_tau"
   ]
  },
  {
   "cell_type": "code",
   "execution_count": null,
   "metadata": {},
   "outputs": [],
   "source": []
  }
 ],
 "metadata": {
  "kernelspec": {
   "display_name": "Python 3",
   "language": "python",
   "name": "python3"
  },
  "language_info": {
   "codemirror_mode": {
    "name": "ipython",
    "version": 3
   },
   "file_extension": ".py",
   "mimetype": "text/x-python",
   "name": "python",
   "nbconvert_exporter": "python",
   "pygments_lexer": "ipython3",
   "version": "3.7.7"
  }
 },
 "nbformat": 4,
 "nbformat_minor": 2
}
